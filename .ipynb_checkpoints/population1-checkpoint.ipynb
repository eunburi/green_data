{
 "cells": [
  {
   "cell_type": "code",
   "execution_count": 19,
   "id": "fac643f1",
   "metadata": {
    "scrolled": true
   },
   "outputs": [
    {
     "name": "stdout",
     "output_type": "stream",
     "text": [
      "['서울특별시 강남구 대치1동(1168060000)', '23,857', '23,857', '32', '53', '46', '64', '88', '146', '223', '217', '302', '376', '440', '512', '565', '548', '612', '643', '568', '507', '504', '437', '313', '289', '334', '251', '247', '217', '199', '172', '166', '132', '139', '128', '131', '100', '98', '106', '125', '129', '177', '227', '270', '359', '384', '525', '538', '597', '648', '636', '687', '636', '636', '625', '559', '513', '435', '327', '259', '290', '281', '244', '266', '231', '224', '217', '206', '208', '237', '199', '161', '180', '192', '123', '156', '132', '136', '132', '130', '80', '84', '66', '76', '55', '62', '51', '49', '34', '31', '22', '20', '17', '12', '13', '13', '10', '6', '3', '4', '3', '0', '3', '1']\n"
     ]
    }
   ],
   "source": [
    "import csv\n",
    "\n",
    "f = open('datas/age_2023.csv', 'r')\n",
    "data = csv.reader(f)\n",
    "next(data)\n",
    "\n",
    "for row in data:\n",
    "    if '대치1동' in row[0]:\n",
    "        print(row)\n",
    "f.close()"
   ]
  },
  {
   "cell_type": "markdown",
   "id": "122067c0",
   "metadata": {},
   "source": [
    "### 연령별 인구 시각화"
   ]
  },
  {
   "cell_type": "code",
   "execution_count": 50,
   "id": "4270b374",
   "metadata": {
    "scrolled": true
   },
   "outputs": [
    {
     "name": "stdout",
     "output_type": "stream",
     "text": [
      "101\n"
     ]
    },
    {
     "name": "stderr",
     "output_type": "stream",
     "text": [
      "C:\\ProgramData\\anaconda3\\lib\\site-packages\\IPython\\core\\pylabtools.py:152: UserWarning: Glyph 8722 (\\N{MINUS SIGN}) missing from current font.\n",
      "  fig.canvas.print_figure(bytes_io, **kw)\n"
     ]
    },
    {
     "data": {
      "image/png": "[encoded data removed]",
      "text/plain": [
       "<Figure size 640x480 with 1 Axes>"
      ]
     },
     "metadata": {},
     "output_type": "display_data"
    }
   ],
   "source": [
    "import csv\n",
    "import matplotlib.pyplot as plt\n",
    "\n",
    "with open('datas/age_2023.csv', 'r') as f:\n",
    "    data = csv.reader(f)\n",
    "    next(data)\n",
    "    result = [] # 연령별 인구 저장할 리스트\n",
    "\n",
    "    for row in data:\n",
    "        if '대치1동' in row[0]:\n",
    "            for i in row[3:]: #3번 인덱스 - 104번(104-1) 인덱스까지 반복\n",
    "                result.append(int(i.replace(\",\", \"\"))) #천단위 구분 기호 제거\n",
    "                \n",
    "print(len(row[3:]))\n",
    "#print(result)\n",
    "plt.rc('font',family='Malgun Gothic')\n",
    "plt.style.use(\"ggplot\")\n",
    "plt.plot(result,'r')  # y축값\n",
    "plt.xlabel('연령')\n",
    "plt.ylabel('인구')\n",
    "plt.show()"
   ]
  },
  {
   "cell_type": "code",
   "execution_count": null,
   "id": "98c8ab65",
   "metadata": {},
   "outputs": [],
   "source": []
  }
 ],
 "metadata": {
  "kernelspec": {
   "display_name": "Python 3 (ipykernel)",
   "language": "python",
   "name": "python3"
  },
  "language_info": {
   "codemirror_mode": {
    "name": "ipython",
    "version": 3
   },
   "file_extension": ".py",
   "mimetype": "text/x-python",
   "name": "python",
   "nbconvert_exporter": "python",
   "pygments_lexer": "ipython3",
   "version": "3.10.9"
  }
 },
 "nbformat": 4,
 "nbformat_minor": 5
}
