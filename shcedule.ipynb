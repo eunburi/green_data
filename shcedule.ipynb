{
 "cells": [
  {
   "cell_type": "code",
   "execution_count": 40,
   "id": "d918f9dd",
   "metadata": {},
   "outputs": [
    {
     "name": "stdout",
     "output_type": "stream",
     "text": [
      "=== 학원시간표 ===\n",
      "     월요일 수요일  금요일\n",
      "1교시   국어  영어  NaN\n",
      "2교시   수학  영어   수학\n",
      "3교시  NaN  수학   국어\n"
     ]
    }
   ],
   "source": [
    "import pandas as pd\n",
    "\n",
    "#데이터 생성\n",
    "월 = pd.Series({'1교시':'국어', '2교시':'수학'})\n",
    "수 = pd.Series({'1교시':'영어', '2교시':'영어', '3교시':'수학' })\n",
    "금 = pd.Series({'2교시':'수학', '3교시':'국어'})\n",
    "\n",
    "#DataFrame\n",
    "학원시간표 = pd.DataFrame({\n",
    "    '월요일' : 월,\n",
    "    '수요일' : 수,\n",
    "    '금요일' : 금\n",
    "})\n",
    "\n",
    "print('=== 학원시간표 ===')\n",
    "print(학원시간표)"
   ]
  },
  {
   "cell_type": "code",
   "execution_count": 41,
   "id": "e00600f5",
   "metadata": {},
   "outputs": [
    {
     "name": "stdout",
     "output_type": "stream",
     "text": [
      "===수정된 학원 시간표===\n",
      "    월요일 수요일 금요일\n",
      "1교시  국어  영어   X\n",
      "2교시  수학  영어  수학\n",
      "3교시   X  수학  국어\n",
      "=== 수요일에 영어만 있는  시간표 ===\n",
      "    월요일 수요일 금요일\n",
      "1교시  국어  영어   X\n",
      "2교시  수학  영어  수학\n"
     ]
    }
   ],
   "source": [
    "# csv파일로 저장\n",
    "학원시간표.to_csv(\"./datas/학원시간표.csv\")\n",
    "\n",
    "# 학원시간표 읽어오기\n",
    "# col=0 (교시), col =1 (월요일)\n",
    "학원시간표_정리 = pd.read_csv(\"./datas/학원시간표.csv\", index_col=0)\n",
    "학원시간표_정리\n",
    "\n",
    "#Nan -> X로 변경\n",
    "학원시간표_정리.loc['3교시']['월요일'] = 'X'\n",
    "학원시간표_정리.loc['1교시']['금요일'] = 'X'\n",
    "학원시간표_정리\n",
    "\n",
    "print(\"===수정된 학원 시간표===\")\n",
    "print(학원시간표_정리)\n",
    "\n",
    "print(\"=== 수요일에 영어만 있는  시간표 ===\")\n",
    "#print([학원시간표_정리['수요일'] == '영어'])\n",
    "print(학원시간표_정리[학원시간표_정리['수요일'] == '영어'])"
   ]
  },
  {
   "cell_type": "code",
   "execution_count": 42,
   "id": "fc9f5c8c",
   "metadata": {},
   "outputs": [
    {
     "data": {
      "text/plain": [
       "array(['봄', '여름', '가을', '겨울'], dtype='<U2')"
      ]
     },
     "execution_count": 42,
     "metadata": {},
     "output_type": "execute_result"
    }
   ],
   "source": [
    "import numpy as np\n",
    "\n",
    "c = ['봄','여름', '가을','겨울']\n",
    "arr2 = np.array(c)\n",
    "arr2\n",
    "#print(arr2)\n"
   ]
  },
  {
   "cell_type": "code",
   "execution_count": 43,
   "id": "d3b6f447",
   "metadata": {},
   "outputs": [
    {
     "name": "stdout",
     "output_type": "stream",
     "text": [
      "[1. 2. 3. 4.]\n",
      "float64\n"
     ]
    }
   ],
   "source": [
    "import numpy as np\n",
    "\n",
    "c = [1.0,2,3,4]\n",
    "arr2 = np.array(c)\n",
    "arr2\n",
    "print(arr2)\n",
    "print(arr2.dtype)\n",
    "\n"
   ]
  },
  {
   "cell_type": "code",
   "execution_count": 45,
   "id": "ec51743e",
   "metadata": {},
   "outputs": [
    {
     "name": "stdout",
     "output_type": "stream",
     "text": [
      "['봄' '여름' '가을' '겨울']\n",
      "<U2\n"
     ]
    }
   ],
   "source": [
    "import numpy as np\n",
    "\n",
    "c = ['봄','여름', '가을', '겨울']\n",
    "arr2 = np.array(c)\n",
    "arr2\n",
    "print(arr2)\n",
    "print(arr2.dtype)\n"
   ]
  },
  {
   "cell_type": "code",
   "execution_count": 50,
   "id": "e6c48604",
   "metadata": {},
   "outputs": [],
   "source": [
    "import numpy as np\n",
    "\n",
    "순위 = 1 + np.arange(10) # 1 + (0~9)\n",
    "\n",
    "팀 = np.array(['SSG','LG','키움','KT','기아','NC','삼성','롯데','두산','한화'])\n",
    "승 = np.array([88,87,80,80,70,67,66,64,60,46])\n",
    "패 = np.array([52,55,62,62,73,74,76,76,82,96])\n",
    "무 = np.array([4, 2, 2, 2, 1, 3, 2, 4, 2, 2])\n",
    "승률 = np.array([0.629, 0.613, 0.583, 0.583, 0.490,0.475, 0.485, 0.457, 0.423, 0.324])\n",
    "# print(팀)\n",
    "# print(승)\n",
    "# print(len(팀))\n",
    "\n",
    "with open(\"datas/2022kbo.txt\", 'w') as f:\n",
    "    f.write(\"========= 2022 한국 프로 야구 성적표 ===========\\n\")\n",
    "    head = \"순위\\t팀\\t승\\t패\\t무\\t승률\"\n",
    "    f.write(head)\n",
    "    f.write('\\n')\n",
    "    for i in range(len(팀)): # 10번 반복\n",
    "        txt = f'{순위[i]}\\t{팀[i]}\\t{승[i]}\\t{패[i]}\\t{무[i]}\\t{승률[i]}\\n'\n",
    "        f.write(txt)"
   ]
  },
  {
   "cell_type": "code",
   "execution_count": null,
   "id": "bf01296e",
   "metadata": {},
   "outputs": [],
   "source": []
  }
 ],
 "metadata": {
  "kernelspec": {
   "display_name": "Python 3 (ipykernel)",
   "language": "python",
   "name": "python3"
  },
  "language_info": {
   "codemirror_mode": {
    "name": "ipython",
    "version": 3
   },
   "file_extension": ".py",
   "mimetype": "text/x-python",
   "name": "python",
   "nbconvert_exporter": "python",
   "pygments_lexer": "ipython3",
   "version": "3.10.9"
  }
 },
 "nbformat": 4,
 "nbformat_minor": 5
}
