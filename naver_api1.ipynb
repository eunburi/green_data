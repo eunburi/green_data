{
 "cells": [
  {
   "cell_type": "code",
   "execution_count": 7,
   "id": "40f905ab",
   "metadata": {},
   "outputs": [
    {
     "name": "stdout",
     "output_type": "stream",
     "text": [
      "200\n",
      "<class 'http.client.HTTPResponse'>\n"
     ]
    },
    {
     "data": {
      "text/plain": [
       "'{\\n\\t\"lastBuildDate\":\"Fri, 12 May 2023 16:01:55 +0900\",\\n\\t\"total\":1302,\\n\\t\"start\":1,\\n\\t\"display\":10,\\n\\t\"items\":[\\n\\t\\t{\\n\\t\\t\\t\"title\":\"꿈과 희망! 내 &apos;&apos;일&apos;을 잡(<b>job<\\\\/b>)아라!\",\\n\\t\\t\\t\"link\":\"https:\\\\/\\\\/blog.naver.com\\\\/goodchungju\\\\/220138931728\",\\n\\t\\t\\t\"description\":\"내 \\'일\\'을 잡(<b>job<\\\\/b>)아라! 충주의 번영과 시민의 행복. 안녕하세요 충주사랑입니다. 충주시가 \\'내 일을 잡... 시 관계자는 &quot;충주지역에 소재한 100개 기업에서 <b>423<\\\\/b>명의 인력을 채용할 계획으로, 구직자들이 많이... \",\\n\\t\\t\\t\"bloggername\":\"충주시 블로그-그 곳에 가면 즐거워 진다!\",\\n\\t\\t\\t\"bloggerlink\":\"blog.naver.com\\\\/goodchungju\",\\n\\t\\t\\t\"postdate\":\"20141002\"\\n\\t\\t},\\n\\t\\t{\\n\\t\\t\\t\"title\":\"스킵비트 <b>423<\\\\/b>화 영문판 번역\",\\n\\t\\t\\t\"link\":\"https:\\\\/\\\\/blog.naver.com\\\\/glimnae\\\\/221081531246\",\\n\\t\\t\\t\"description\":\"여하간, 그래서 <b>423<\\\\/b>화부터 번역하기로 합니다. 번역이 귀찮아서 그렇지 영문판은... Still, with that producer on the <b>job<\\\\/b>, I hardly think it will be exactly the same as before.. 그... \",\\n\\t\\t\\t\"bloggername\":\"그림내의 기라성\",\\n\\t\\t\\t\"bloggerlink\":\"blog.naver.com\\\\/glimnae\",\\n\\t\\t\\t\"postdate\":\"20170824\"\\n\\t\\t},\\n\\t\\t{\\n\\t\\t\\t\"title\":\"[<b>Job<\\\\/b>이슈] 취업 고스펙자 탈락 왜?\",\\n\\t\\t\\t\"link\":\"https:\\\\/\\\\/blog.naver.com\\\\/autoarc\\\\/221368123946\",\\n\\t\\t\\t\"description\":\"기업 인사담당자, &quot;회사 모르고 지원하는 고스펙자 NO&quot; [건설워커 <b>Job<\\\\/b>이슈 2018-09-30] 한 취업사이트... 온라인 취업포털 사람인()이 5일 중소기업 인사담당자 <b>423<\\\\/b>명을 대상으로 설문조사한 결과,... 출처 이데일리\",\\n\\t\\t\\t\"bloggername\":\"건설워커 잡톡\",\\n\\t\\t\\t\"bloggerlink\":\"blog.naver.com\\\\/autoarc\",\\n\\t\\t\\t\"postdate\":\"20180930\"\\n\\t\\t},\\n\\t\\t{\\n\\t\\t\\t\"title\":\"UNIT <b>423<\\\\/b>복습 및 Unit 425. Animals with unusual jobs... \",\\n\\t\\t\\t\"link\":\"https:\\\\/\\\\/blog.naver.com\\\\/blumouth\\\\/220958481902\",\\n\\t\\t\\t\"description\":\"▶ UNIT <b>423<\\\\/b> 어휘로 작문하기 Why do many people want to go to universities? In spite of the huge tuition and other expenses), there is no solid guarantee to get a <b>job<\\\\/b> to be a... \",\\n\\t\\t\\t\"bloggername\":\"손금자의 쎌프 라이프\",\\n\\t\\t\\t\"bloggerlink\":\"blog.naver.com\\\\/blumouth\",\\n\\t\\t\\t\"postdate\":\"20170315\"\\n\\t\\t},\\n\\t\\t{\\n\\t\\t\\t\"title\":\"#<b>423<\\\\/b> 매일 English_[내 공부 포스팅]\",\\n\\t\\t\\t\"link\":\"https:\\\\/\\\\/blog.naver.com\\\\/rhfem7\\\\/223046941426\",\\n\\t\\t\\t\"description\":\"They _____________ me the <b>job<\\\\/b>! \\\\/ [5달러의 돈으로 내가 뭘 할 수 있지?] What can I do ___________ five dollars? \\\\/ [그들은 우리와 함께 일하는 것에 관심을 표현했어요.] They\\'ve _______________ an... \",\\n\\t\\t\\t\"bloggername\":\"캘리쿵&apos;s 소확행\",\\n\\t\\t\\t\"bloggerlink\":\"blog.naver.com\\\\/rhfem7\",\\n\\t\\t\\t\"postdate\":\"20230317\"\\n\\t\\t},\\n\\t\\t{\\n\\t\\t\\t\"title\":\"일천 번제 말씀 필사와 묵상 일기~<b>423<\\\\/b>日\",\\n\\t\\t\\t\"link\":\"https:\\\\/\\\\/blog.naver.com\\\\/jhys7003\\\\/222658955515\",\\n\\t\\t\\t\"description\":\"그러므로 내가 스스로 거두어들이고 티끌과 재 가운데에서 회개하나이다 Therefore I despise myself and repent in dust and ashes.&quot; 욥기 42:5~6, <b>JOB<\\\\/b> 42:5~6 하나님의 깊은 뜻과 섭리를 알지 못하고 부조리한 세상사들에... \",\\n\\t\\t\\t\"bloggername\":\"드보라여 꿈을 꾸자\",\\n\\t\\t\\t\"bloggerlink\":\"blog.naver.com\\\\/jhys7003\",\\n\\t\\t\\t\"postdate\":\"20220227\"\\n\\t\\t},\\n\\t\\t{\\n\\t\\t\\t\"title\":\"[<b>423<\\\\/b>] 2016-10-26 영어공부: EBS - 입이 트이는 영어... \",\\n\\t\\t\\t\"link\":\"https:\\\\/\\\\/blog.naver.com\\\\/be_jisonny\\\\/220845646881\",\\n\\t\\t\\t\"description\":\"I don\\'t want to get stuck in another <b>job<\\\\/b> like that. 나는 그와 같은 일에 또다시 빠져들고 싶지 않다. hold the handrail 난간을 잡다 Hold on to the handrail to keep your balance. 몸의 균형을... \",\\n\\t\\t\\t\"bloggername\":\"지쏘니의 포스트잇! (기록)\",\\n\\t\\t\\t\"bloggerlink\":\"blog.naver.com\\\\/be_jisonny\",\\n\\t\\t\\t\"postdate\":\"20161026\"\\n\\t\\t},\\n\\t\\t{\\n\\t\\t\\t\"title\":\"[D+<b>423<\\\\/b>] 실수 연발 ㅎㅎ;\\\\/ 페달,카드 받음\",\\n\\t\\t\\t\"link\":\"https:\\\\/\\\\/blog.naver.com\\\\/108291014\\\\/220904635818\",\\n\\t\\t\\t\"description\":\"I\\'ve felt that already from her in a <b>job<\\\\/b> interview and it was right. the problem is.. i easily become nervous and act weirdly every time i come across her. Whenever i met her... \",\\n\\t\\t\\t\"bloggername\":\"Time Capsule\",\\n\\t\\t\\t\"bloggerlink\":\"blog.naver.com\\\\/108291014\",\\n\\t\\t\\t\"postdate\":\"20170106\"\\n\\t\\t},\\n\\t\\t{\\n\\t\\t\\t\"title\":\"금정산 가을에 찾아간 나비바위 [11.10.5(수)] &lt;16-<b>423<\\\\/b>&gt;\",\\n\\t\\t\\t\"link\":\"https:\\\\/\\\\/blog.naver.com\\\\/viking05\\\\/220816732693\",\\n\\t\\t\\t\"description\":\"장산(634m) - 마린시티 아름답고 환상적인 나비바위 억새밭 파리봉(615m) &lt;우측&gt; 제4망루 - 원효봉 &lt;저 멀리&gt; \\\\/ 나비바위를 떠나다 Haste Makes Waste (when one hurries too much, one is likely to do a poor <b>job<\\\\/b> and... \",\\n\\t\\t\\t\"bloggername\":\"퇴직교수 고향쉼터\",\\n\\t\\t\\t\"bloggerlink\":\"blog.naver.com\\\\/viking05\",\\n\\t\\t\\t\"postdate\":\"20160920\"\\n\\t\\t},\\n\\t\\t{\\n\\t\\t\\t\"title\":\"쿠로코의 농구 앤솔로지 KUROKO <b>JOB<\\\\/b> 2 \\\\/ 카사마츠 카레시... \",\\n\\t\\t\\t\"link\":\"https:\\\\/\\\\/blog.naver.com\\\\/psb0083\\\\/220165440032\",\\n\\t\\t\\t\"description\":\"쿠로코의 농구 앤솔로지 KUROKO <b>JOB<\\\\/b> 2 (쿠로코 수 \\\\/ 19세미만구독불가 \\\\/ 12,500원) 카사마츠... com\\\\/psb0083\\\\/80193863200 &lt; 박서방 대전본점 매장&gt; 주소 : 대전 서구 괴정동 <b>423<\\\\/b>-3 오렌지타운 3층 영업시간... \",\\n\\t\\t\\t\"bloggername\":\"박서방 대전본점 공식블로그\",\\n\\t\\t\\t\"bloggerlink\":\"blog.naver.com\\\\/psb0083\",\\n\\t\\t\\t\"postdate\":\"20141029\"\\n\\t\\t}\\n\\t]\\n}'"
      ]
     },
     "execution_count": 7,
     "metadata": {},
     "output_type": "execute_result"
    }
   ],
   "source": [
    "import urllib.request\n",
    "\n",
    "#네이버 API 서비스(ID/비번)등록\n",
    "client_id = \"5upI7Nmhp34zm1GE8pyr\"\n",
    "client_secret = \"VLSjYu3UGe\"\n",
    "\n",
    "encText = urllib.request.quote(\"job423\") \n",
    "# print(encText)\n",
    "url = \"https://openapi.naver.com/v1/search/blog.json?query=\" + encText\n",
    "# print(url)\n",
    "\n",
    "# 요청\n",
    "request = urllib.request.Request(url)   # url주소를 요청(호출)\n",
    "request.add_header(\"X-Naver-Client-Id\", client_id) #header로 id 비번보내줌\n",
    "request.add_header(\"X-Naver-Client-Secret\", client_secret)\n",
    "\n",
    "# 응답\n",
    "response = urllib.request.urlopen(request)  # requests.get(url) 유사함\n",
    "print(response.getcode())  #상태코드가져옴 200, 404\n",
    "print(type(response))\n",
    "response.read().decode('utf-8')"
   ]
  },
  {
   "cell_type": "markdown",
   "id": "d80f0c31",
   "metadata": {},
   "source": [
    "### 도서 검색\n",
    "### \"https://openapi.naver.com/v1/search/book.json?"
   ]
  },
  {
   "cell_type": "code",
   "execution_count": 22,
   "id": "655b1984",
   "metadata": {},
   "outputs": [
    {
     "data": {
      "text/plain": [
       "'https://openapi.naver.com/v1/search/book.json?query=test&start=1&display=5'"
      ]
     },
     "execution_count": 22,
     "metadata": {},
     "output_type": "execute_result"
    }
   ],
   "source": [
    "import urllib.request\n",
    "\n",
    "def create_url(api_node, search_text, start_num, disp_num):\n",
    "    base = \"https://openapi.naver.com/v1/search\"\n",
    "    node = \"/\" + api_node + \".json\"\n",
    "    param_query = \"?query=\" + urllib.parse.quote(search_text)\n",
    "    param_start= \"&start=\" + str(start_num)\n",
    "    param_disp = \"&display=\" + str(disp_num)\n",
    "    \n",
    "    return base + node + param_query + param_start + param_disp\n",
    "\n",
    "create_url('book','test', 1, 5)"
   ]
  },
  {
   "cell_type": "code",
   "execution_count": 42,
   "id": "adfa275c",
   "metadata": {
    "scrolled": true
   },
   "outputs": [
    {
     "name": "stdout",
     "output_type": "stream",
     "text": [
      "{'lastBuildDate': 'Fri, 12 May 2023 16:50:49 +0900', 'total': 877, 'start': 1, 'display': 10, 'items': [{'title': 'Do it! 점프 투 파이썬 (이미 200만명이 이 책으로 프로그래밍을 시작했다!)', 'link': 'https://search.shopping.naver.com/book/catalog/32456895000', 'image': 'https://shopping-phinf.pstatic.net/main_3245689/32456895000.20230511071611.jpg', 'author': '박응용', 'discount': '16920', 'publisher': '이지스퍼블리싱', 'pubdate': '20190620', 'isbn': '9791163030911', 'description': '파이썬 4년 연속 베스트셀러 1위! \\n『Do it! 점프 투 파이썬』 전면 개정판 출시!\\n\\n문과생도 중고등학생도 직장인도 프로그래밍에 눈뜨게 만든 바로 그 책이 전면 개정판으로 새로 태어났다! 2016년 《Do it! 점프 투 파이썬》으로 출간되었던 이 책은 약 4년 동안의 피드백을 반영하여 초보자가 더 빠르게 입문하고, 더 깊이 있게 공부할 수 있도록 개정되었다. 특히 ‘나 혼자 코딩’과 ‘코딩 면허 시험 20제’ 등 독자의 학습 흐름에 맞게 문제를 보강한 점이 눈에 띈다. 실습량도 두 배로 늘었다.\\n4년 동안 압도적 1위! 위키독스 누적 방문 200만! 수많은 대학 및 학원의 교재 채택 등! 검증은 이미 끝났다. 코딩을 처음 배우는 중고등학생부터 나만의 경쟁력이 필요한 문과생, 데이터 분석과 인공지능/머신러닝으로 커리어를 뻗어 나가고 싶은 직장인까지! 프로그래밍의 세계에 풍덩 빠져 보자.'}, {'title': '코딩 자율학습 나도코딩의 파이썬 입문 (초보자 눈높이에 맞춘 친절한 프로그래밍 자습서)', 'link': 'https://search.shopping.naver.com/book/catalog/37828235624', 'image': 'https://shopping-phinf.pstatic.net/main_3782823/37828235624.20230404163151.jpg', 'author': '나도코딩', 'discount': '20520', 'publisher': '길벗', 'pubdate': '20230220', 'isbn': '9791140703302', 'description': '30만 명의 구독자와 2만 6천 명의 수강생이 증명한 최고의 파이썬 강의\\n나도코딩의 프로그래밍 학습 노하우를 배우자!\\n\\n유튜브와 인프런 최고의 인기 강의를 한 권에 담았습니다. 일상 속 재미있는 예제로 파이썬 기본 개념을 배우고 1분 퀴즈, 실습 문제, 셀프체크로 이어지는 단계별 학습으로 파이썬을 완공할 수 있습니다. 이제 코딩은 선택이 아닌 필수! 코딩은 전공자만 배울 수 있다는 생각으로 지레 포기하지 마세요. 파이썬은 초보자가 가장 쉽게 배울 수 있는 프로그래밍 언어입니다. 관심만 있다면 누구나 코딩을 배울 수 있습니다. 나도코딩이 쉽고 재미있게 알려드립니다. 코딩을 처음 배우는 사람도 단계적 용어 설명과 친절한 지시선으로 막힘없이 따라 할 수 있습니다. 기본 설명 외에 팁, 노트 등을 적재적소에 배치해 혼자 공부할 때 생길 수 있는 의문점을 쉽게 해결할 수 있게 도와줍니다. 이제 〈코딩 자율학습 나도코딩의 파이썬 입문〉으로 완벽한 코딩 자율학습을 경험해 보세요.'}, {'title': '파이썬 무작정 따라하기 (미래의 프로그래머를 위한)', 'link': 'https://search.shopping.naver.com/book/catalog/32439274496', 'image': 'https://shopping-phinf.pstatic.net/main_3243927/32439274496.20230328163144.jpg', 'author': '서승희^송석리', 'discount': '12600', 'publisher': '길벗', 'pubdate': '20211220', 'isbn': '9791165217891', 'description': '초등학생을 위한 파이썬 교재\\n첫 코딩을 쉽고 재밌게!\\n\\n이 책은 초등학생부터 청소년까지 쉽고 체계적으로 파이썬 코딩을 배울 수 있는 책입니다. 데이터, 조건문, 변수, 반복문, 함수, 라이브러리 등 개념 이해부터, 코드 실습, 연습 문제 3단계 구성으로 차근차근 따라 할 수 있도록 안내합니다. 기본 개념을 배운 후에는 터틀 그래픽으로 그림을 그려보고, 마지막으로는 ‘불꽃을 발사해서 몹을 물리치는’ 게임을 직접 만들어 봅니다. 블록 코딩을 끝낸 뒤 텍스트 코딩을 본격적으로 배우고 싶다면 이 책으로 시작해 보세요!\\n\\n파이썬 설치부터 활용 방법, 기본 개념을 꼼꼼하게 자세하게 알려줘요!\\n파이썬은 무엇이며 어떻게 사용하는지 차근차근 알아봅니다. 현직 교사가 집필하여 아이들의 눈높이에서 개념 설명부터 코드 실습, 연습 문제까지 단계별로 짚어줍니다. 아이들이 좋아하는 캐릭터와 판타지 스토리텔링을 따라가다 보면 데이터, 조건문, 반복문, 변수 같은 파이썬 기본 개념과 자연스레 친해질 수 있습니다.\\n \\n배운 내용을 응용하고 발전시켜 봐요!\\n앞에서 배운 기본 문법을 응용하여 코딩 문제를 풀어 보고 터틀 라이브러리를 사용해서 멋진 마법진도 그려 봅니다. 딕셔너리, 리스트 등 심화된 내용도 차근차근 따라 한다면 어렵지 않아요!\\n \\n나만의 파이썬 게임을 만들어 봐요!\\n파이게임 라이브러리를 사용하여 나만의 게임을 만들어 봅니다. 캐릭터 상하좌우 이동부터 투명 마법, 몹 등장, 불꽃 공격, 소리 효과 등 게임 제작의 기본적인 과정을 재밌게 실습해 봅니다. \\n \\n 누구를 위한 책인가요?\\n- 블록 코딩을 배우고 처음으로 텍스트 코딩을 배우려는 초등 5~6학년, 중등 1~2학년\\n- 코딩을 쉽게 배우고 싶은 모든 사람'}, {'title': '챗GPT와 업무자동화 (1분 만에 끝내는 엑셀, 구글 시트, 파워포인트, 파이썬 자동화 with ChatGPT)', 'link': 'https://search.shopping.naver.com/book/catalog/38613559620', 'image': 'https://shopping-phinf.pstatic.net/main_3861355/38613559620.20230512071057.jpg', 'author': '김철수', 'discount': '15390', 'publisher': '위키북스', 'pubdate': '20230321', 'isbn': '9791158394288', 'description': '코드 한 줄 몰라도 1분 만에 끝내는 엑셀, 구글 스프레드시트, 파워포인트 업무 자동화!\\n\\n우리는 ChatGPT에게 코드를 요청하고, ChatGPT가 작성한 코드를 사용해서 엑셀이든 파워포인트든 구글 시스프레드시트든 뭐든 자동화할 수 있습니다. Ctrl+C와 Ctrl+V로 하루 종일 해야 했던 단순 반복 업무를 ChatGPT만 있으면 1분 안에 끝낼 수 있습니다. 믿기지 않는다고요? 이 책을 보면 이제 Ctrl+C와 Ctrl+V의 노예에서 해방될 수 있습니다.\\n\\nChatGPT는 사람의 직업을 대체하지 않습니다. 모든 사람이 본연의 업무에 집중할 수 있도록 단순 반복 업무 같은 작업을 대신하거나, 아주 빠르게 하도록 도와주는 것뿐입니다. ChatGPT와 같은 AI에 익숙해진다면 업무 효율이 부쩍 올라가고 여유 시간이 점점 늘어나는 것을 느낄 겁니다.\\n\\n★ 이 책의 구성 ★\\n\\n◎ ChatGPT 개념과 간단한 사용법\\n◎ ChatGPT를 사용해서 엑셀을 자동화하는 방법\\n◎ ChatGPT가 작성해주는 주는 VBA 코드를 엑셀에서 활용하는 방법\\n◎ ChatGPT를 활용한 구글 스프레드 자동화\\n◎ ChatGPT의 다양한 활용 - 파이썬으로 뉴스 수집, D3 시각화, 웹페이지 만들기 등'}, {'title': '혼자 공부하는 파이썬 (1:1 과외하듯 배우는 프로그래밍 자습서)', 'link': 'https://search.shopping.naver.com/book/catalog/32507605957', 'image': 'https://shopping-phinf.pstatic.net/main_3250760/32507605957.20230509170119.jpg', 'author': '윤인성', 'discount': '18810', 'publisher': '한빛미디어', 'pubdate': '20220601', 'isbn': '9791162245651', 'description': '혼자 해도 충분하다! 1:1 과외하듯 배우는 파이썬 프로그래밍 자습서\\n\\n『혼자 공부하는 파이썬』이 더욱 흥미있고 알찬 내용으로 개정되었습니다. 프로그래밍이 정말 처음인 입문자도 따라갈 수 있는 친절한 설명과 단계별 학습은 그대로! 혼자 공부하더라도 체계적으로 계획을 세워 학습할 수 있도록 ‘혼공 계획표’를 새롭게 추가했습니다. 또한 입문자가 자주 물어보는 질문과 오류 해결 방법을 적재적소에 배치하여 예상치 못한 문제에 부딪혀도 좌절하지 않고 끝까지 완독할 수 있도록 도와줍니다. 단순한 문법 암기와 코딩 따라하기에 지쳤다면, 새로운 혼공파와 함께 ‘누적 예제’와 ‘도전 문제’로 프로그래밍의 신세계를 경험해 보세요! 배운 내용을 씹고 뜯고 맛보고 즐기다 보면 응용력은 물론 알고리즘 사고력까지 키워 코딩 실력이 쑥쑥 성장할 것입니다.\\n\\n이 책은 독학으로 파이썬을 배우는 입문자가 ‘꼭 필요한 내용을 제대로 학습’할 수 있도록 구성했습니다. 뭘 모르는지조차 모르는 입문자의 막연한 마음에 십분 공감하여 과외 선생님이 알려주듯 친절하게, 핵심적인 내용만 콕콕 집어줍니다. 책의 첫 페이지를 펼쳐서 마지막 페이지를 덮을 때까지, 혼자서도 충분히 파이썬을 배울 수 있다는 자신감과 확신이 계속될 것입니다!\\n\\n베타리더와 함께 입문자에게 맞는 난이도, 분량, 학습 요소 등을 적극 반영했습니다. 어려운 용어와 개념은 한 번 더 풀어쓰고, 복잡한 설명은 눈에 잘 들어오는 그림으로 풀어냈습니다. ‘혼자 공부해 본’ 여러 입문자의 초심과 눈높이가 책 곳곳에 반영된 것이 이 책의 가장 큰 장점입니다.'}, {'title': '혼자 공부하는 데이터 분석 with 파이썬 (1:1 과외하듯 배우는 데이터 분석 자습서)', 'link': 'https://search.shopping.naver.com/book/catalog/36555425618', 'image': 'https://shopping-phinf.pstatic.net/main_3655542/36555425618.20230103163017.jpg', 'author': '박해선', 'discount': '22230', 'publisher': '한빛미디어', 'pubdate': '20230102', 'isbn': '9791169210287', 'description': '혼자 해도 충분하다! 1:1 과외하듯 배우는 데이터 분석 자습서\\n\\n이 책은 독학으로 데이터 분석을 배우는 입문자가 ‘꼭 필요한 내용을 제대로 학습’할 수 있도록 구성했습니다. 뭘 모르는지조차 모르는 입문자의 막연한 마음에 십분 공감하여 과외 선생님이 알려주듯 친절하게, 핵심적인 내용만 콕콕 집어 줍니다. 책의 첫 페이지를 펼쳐서 마지막 페이지를 덮을 때까지, 혼자서도 충분히 데이터 분석을 배울 수 있다는 자신감과 확신이 계속될 것입니다!\\n\\n베타리더 검증으로, ‘함께 만든’ 입문자 맞춤형 도서\\n베타리더와 함께 입문자에게 맞는 난이도, 분량, 학습 요소 등을 고민하고 이를 적극 반영했습니다. 어려운 용어와 개념은 한 번 더 풀어쓰고, 복잡한 설명은 눈에 잘 들어오는 그림으로 풀어냈습니다. ‘혼자 공부해 본’ 여러 입문자의 초심과 눈높이가 책 곳곳에 반영된 것이 이 책의 가장 큰 장점입니다.\\n\\n누구를 위한 책인가요?\\n\\n●\\t데이터 분석을 어떻게 시작할지 막막한 비전공자\\n●\\t파이썬을 배운 다음 의미 있는 실습을 해 보고 싶은 파이썬 입문자\\n●\\t프로그래밍은 알지만, 분석(통계)에 대한 이해가 필요한 개발자\\n●\\t데이터에서 유의미한 결과를 도출해 이를 기획이나 마케팅에 적용해 보고 싶은 직장인\\n●\\t데이터 분석가, 데이터 사이언티스트라는 직업에 관심 있는 모든 사람'}, {'title': '파이썬 라이브러리를 활용한 데이터 분석 (영화 평점, 이름 통계, 선거 데이터 등 실사례 사용)', 'link': 'https://search.shopping.naver.com/book/catalog/39490930623', 'image': 'https://shopping-phinf.pstatic.net/main_3949093/39490930623.20230502162650.jpg', 'author': 'Wes McKinney', 'discount': '35100', 'publisher': '한빛미디어', 'pubdate': '20230501', 'isbn': '9791169210973', 'description': '데이터 분석을 배우는 가장 완벽한 방법 \\n파이썬 라이브러리 사용법부터 실제 데이터를 활용한 실습까지\\n\\n믿고 보는 파이썬 데이터 분석 대표 도서가 3판으로 돌아왔다. 파이썬 판다스 프로젝트 창시자인 웨스 맥키니가 직접 설명하는 파이썬 라이브러리 사용법은 실용적이고 현대적이다. 파이썬과 판다스 최신 버전을 기준으로 내용을 업데이트했고 다양한 사례를 살펴보며 데이터 분석 문제를 효과적으로 해결하는 방법을 알아본다. \\n\\n판다스, 넘파이, IPython, 맷플롯립, 주피터 등 다양한 파이썬 라이브러리를 소개하고 새로운 기능뿐만 아니라 메모리 사용량을 줄이고 성능을 개선하는 고급 사용법까지 다룬다. 또한 모델링 도구인 statsmodels와 사이킷런 라이브러리도 소개한다. 신생아 이름 통계 자료, 대선 데이터베이스 등 실제 데이터로 실습하며 데이터에 적합한 도구를 선택하고 효과적으로 분석하는 전문가로 거듭나보자.'}, {'title': '챗GPT를 활용한 40가지 파이썬 프로그램 만들기 (파이썬 초보 개발자를 위한 챗GPT 실전 활용서)', 'link': 'https://search.shopping.naver.com/book/catalog/39233615626', 'image': 'https://shopping-phinf.pstatic.net/main_3923361/39233615626.20230509165334.jpg', 'author': '장문철', 'discount': '15930', 'publisher': '앤써북', 'pubdate': '20230430', 'isbn': '9791198189202', 'description': '단 한 줄의 코드 작성없이 원하는 파이썬 프로그램을 완성할 수 있다!\\n\\n이 책을 통해 파이썬 기본 문법 익힌 후 챗GPT에게 다양한 질문을 통해 40가지 파이썬 프로그램을 만들어보자! \\n\\n파이썬 기초가 없거나 자세한 문법 설명이 필요한 경우 특별 부록으로 제공되는 〈챗GPT를 활용한 파이썬 문법 배우기 입문〉 PDF 파일을 참고한다. \\n\\n이 책의 실습에 필요한 소스 다운로드 및 학습하는 과정에서 오류가 발생하는 부분이 있으면 저자에게 질문할 수 있는 질문/답변 네이버 카페를 앤써북 독지지원센터를 운영한다. 사용 방법은 책 5~6쪽을 참고한다. \\n- 앤써북 네이버카페 https://cafe.naver.com/answerbook \\n- 책 전용 게시판 https://cafe.naver.com/answerbook/menu/210'}, {'title': 'CODING BASICS PYTHON (파이썬)', 'link': 'https://search.shopping.naver.com/book/catalog/32440944646', 'image': 'https://shopping-phinf.pstatic.net/main_3244094/32440944646.20230509164030.jpg', 'author': '김상민^장성식^김일태', 'discount': '18000', 'publisher': '렉스미디어닷넷', 'pubdate': '20220210', 'isbn': '9788959604210', 'description': '파이썬으로 다지는 프로그래밍의 기초\\n\\nㆍ 다양한 예제를 활용하여 초보자도 쉽게 프로그래밍의 기본을 익힐 수 있는 파이썬 입문서입니다.\\nㆍ 문법을 사전식으로 나열하지 않고 기능적인 프로그램을 하나씩 완성하면서 익힐 수 있게 구성했습니다.\\nㆍ 단계별로 완성하는 장별 예제 및 연습문제를 바탕으로 자신만의 프로그램을 완성할 수 있습니다.'}, {'title': '파이썬', 'link': 'https://search.shopping.naver.com/book/catalog/32460987987', 'image': 'https://shopping-phinf.pstatic.net/main_3246098/32460987987.20230207163755.jpg', 'author': '홍의경', 'discount': '31040', 'publisher': '생능출판', 'pubdate': '20220309', 'isbn': '9788970506784', 'description': '코딩 실력을 키우는 지름길은 실습이다.\\n\\n2008년 즈음에 검인정 중학교 교과서 정보1, 정보2, 정보3을 공저로 저술하였습니다. 그 당시에 8종류의 교과서가 검인정에 합격하였는데, 파이썬을 기반으로 하는 교과서가 2종류, C언어를 기반으로 하는 교과서가 2종류, 베이직을 기반으로 하는 교과서가 2종류, 스크래치를 기반으로 하는 교과서가 2종류였습니다.\\n\\n교육용 언어로 시작한 파이썬이 중학교 학생들이 비교적 쉽게 학습할 수 있는 프로그래밍 언어라고 생각했는데 10여년의 세월이 흐른 지금 파이썬이 활용되는 분야가 가히 폭발적으로 증가하였습니다. \\n\\n파이썬에 관한 쉽고 좋은 교재를 저술하기 위해서 인터넷에서 30,000페이지 이상의 자료를 찾아서 검토하였습니다. 어쩌면 파이썬이 첫 프로그래밍 언어일 본 교재의 독자들이 두려움 없이 파이썬을 기초부터 쉽게 공부하다가, 교재를 다 읽고 나면 “어느새 중급 수준에 도달했구나”라는 생각이 들도록  완성도 높은 교재를 목표로 하였습니다. \\n\\n입문자를 대상으로 하는 교재일수록 집필하는데 훨씬 더 많은 정성과 노력이 필요하다는 것을 잘 알고 있습니다. 개인적으로는 데이터베이스 전공교재를 저술할 때보다 몇 배 더 힘들었고, 공을 많이 들였습니다. \\n\\n원고를 버전 9까지 작성하는 동안 셀 수 없이 원고를 읽어보면서 꼭 필요하지 않은 문장은 삭제하고, 필요한 문장은 반드시 넣었습니다. 고등학교 검인정 교과서 1권, 중학교 검인정 교과서 3권, 데이터베이스 전공 교재 2권, 엑셀 교재 1권, 번역서 2권을 집필하면서 나름대로 한글을 정확하고 간결하게 표현하는데 자신이 있습니다.'}]}\n"
     ]
    }
   ],
   "source": [
    "import urllib.request\n",
    "import json\n",
    "\n",
    "def create_url(api_node, search_text, start_num, disp_num):\n",
    "    base = \"https://openapi.naver.com/v1/search\"\n",
    "    node = \"/\" + api_node + \".json\"\n",
    "    param_query = \"?query=\" + urllib.parse.quote(search_text)\n",
    "    param_start= \"&start=\" + str(start_num)\n",
    "    param_disp = \"&display=\" + str(disp_num)\n",
    "    \n",
    "    return base + node + param_query + param_start + param_disp\n",
    "\n",
    "#create_url('book','파이썬', 1, 3)\n",
    "\n",
    "client_id = \"5upI7Nmhp34zm1GE8pyr\"\n",
    "client_secret = \"VLSjYu3UGe\"\n",
    "\n",
    "url = create_url('book','파이썬', 1, 10)\n",
    "\n",
    "# 요청\n",
    "request = urllib.request.Request(url)   # url주소를 요청(호출)\n",
    "request.add_header(\"X-Naver-Client-Id\", client_id) #header로 id 비번보내줌\n",
    "request.add_header(\"X-Naver-Client-Secret\", client_secret)\n",
    "\n",
    "# 응답\n",
    "response = urllib.request.urlopen(request)  # requests.get(url) 유사함\n",
    "result = json.loads(response.read().decode('utf-8'))\n",
    "print(result)\n"
   ]
  },
  {
   "cell_type": "code",
   "execution_count": 43,
   "id": "76acf98b",
   "metadata": {},
   "outputs": [
    {
     "data": {
      "text/plain": [
       "[{'title': 'Do it! 점프 투 파이썬 (이미 200만명이 이 책으로 프로그래밍을 시작했다!)',\n",
       "  'link': 'https://search.shopping.naver.com/book/catalog/32456895000',\n",
       "  'image': 'https://shopping-phinf.pstatic.net/main_3245689/32456895000.20230511071611.jpg',\n",
       "  'author': '박응용',\n",
       "  'discount': '16920',\n",
       "  'publisher': '이지스퍼블리싱',\n",
       "  'pubdate': '20190620',\n",
       "  'isbn': '9791163030911',\n",
       "  'description': '파이썬 4년 연속 베스트셀러 1위! \\n『Do it! 점프 투 파이썬』 전면 개정판 출시!\\n\\n문과생도 중고등학생도 직장인도 프로그래밍에 눈뜨게 만든 바로 그 책이 전면 개정판으로 새로 태어났다! 2016년 《Do it! 점프 투 파이썬》으로 출간되었던 이 책은 약 4년 동안의 피드백을 반영하여 초보자가 더 빠르게 입문하고, 더 깊이 있게 공부할 수 있도록 개정되었다. 특히 ‘나 혼자 코딩’과 ‘코딩 면허 시험 20제’ 등 독자의 학습 흐름에 맞게 문제를 보강한 점이 눈에 띈다. 실습량도 두 배로 늘었다.\\n4년 동안 압도적 1위! 위키독스 누적 방문 200만! 수많은 대학 및 학원의 교재 채택 등! 검증은 이미 끝났다. 코딩을 처음 배우는 중고등학생부터 나만의 경쟁력이 필요한 문과생, 데이터 분석과 인공지능/머신러닝으로 커리어를 뻗어 나가고 싶은 직장인까지! 프로그래밍의 세계에 풍덩 빠져 보자.'},\n",
       " {'title': '코딩 자율학습 나도코딩의 파이썬 입문 (초보자 눈높이에 맞춘 친절한 프로그래밍 자습서)',\n",
       "  'link': 'https://search.shopping.naver.com/book/catalog/37828235624',\n",
       "  'image': 'https://shopping-phinf.pstatic.net/main_3782823/37828235624.20230404163151.jpg',\n",
       "  'author': '나도코딩',\n",
       "  'discount': '20520',\n",
       "  'publisher': '길벗',\n",
       "  'pubdate': '20230220',\n",
       "  'isbn': '9791140703302',\n",
       "  'description': '30만 명의 구독자와 2만 6천 명의 수강생이 증명한 최고의 파이썬 강의\\n나도코딩의 프로그래밍 학습 노하우를 배우자!\\n\\n유튜브와 인프런 최고의 인기 강의를 한 권에 담았습니다. 일상 속 재미있는 예제로 파이썬 기본 개념을 배우고 1분 퀴즈, 실습 문제, 셀프체크로 이어지는 단계별 학습으로 파이썬을 완공할 수 있습니다. 이제 코딩은 선택이 아닌 필수! 코딩은 전공자만 배울 수 있다는 생각으로 지레 포기하지 마세요. 파이썬은 초보자가 가장 쉽게 배울 수 있는 프로그래밍 언어입니다. 관심만 있다면 누구나 코딩을 배울 수 있습니다. 나도코딩이 쉽고 재미있게 알려드립니다. 코딩을 처음 배우는 사람도 단계적 용어 설명과 친절한 지시선으로 막힘없이 따라 할 수 있습니다. 기본 설명 외에 팁, 노트 등을 적재적소에 배치해 혼자 공부할 때 생길 수 있는 의문점을 쉽게 해결할 수 있게 도와줍니다. 이제 〈코딩 자율학습 나도코딩의 파이썬 입문〉으로 완벽한 코딩 자율학습을 경험해 보세요.'},\n",
       " {'title': '파이썬 무작정 따라하기 (미래의 프로그래머를 위한)',\n",
       "  'link': 'https://search.shopping.naver.com/book/catalog/32439274496',\n",
       "  'image': 'https://shopping-phinf.pstatic.net/main_3243927/32439274496.20230328163144.jpg',\n",
       "  'author': '서승희^송석리',\n",
       "  'discount': '12600',\n",
       "  'publisher': '길벗',\n",
       "  'pubdate': '20211220',\n",
       "  'isbn': '9791165217891',\n",
       "  'description': '초등학생을 위한 파이썬 교재\\n첫 코딩을 쉽고 재밌게!\\n\\n이 책은 초등학생부터 청소년까지 쉽고 체계적으로 파이썬 코딩을 배울 수 있는 책입니다. 데이터, 조건문, 변수, 반복문, 함수, 라이브러리 등 개념 이해부터, 코드 실습, 연습 문제 3단계 구성으로 차근차근 따라 할 수 있도록 안내합니다. 기본 개념을 배운 후에는 터틀 그래픽으로 그림을 그려보고, 마지막으로는 ‘불꽃을 발사해서 몹을 물리치는’ 게임을 직접 만들어 봅니다. 블록 코딩을 끝낸 뒤 텍스트 코딩을 본격적으로 배우고 싶다면 이 책으로 시작해 보세요!\\n\\n파이썬 설치부터 활용 방법, 기본 개념을 꼼꼼하게 자세하게 알려줘요!\\n파이썬은 무엇이며 어떻게 사용하는지 차근차근 알아봅니다. 현직 교사가 집필하여 아이들의 눈높이에서 개념 설명부터 코드 실습, 연습 문제까지 단계별로 짚어줍니다. 아이들이 좋아하는 캐릭터와 판타지 스토리텔링을 따라가다 보면 데이터, 조건문, 반복문, 변수 같은 파이썬 기본 개념과 자연스레 친해질 수 있습니다.\\n \\n배운 내용을 응용하고 발전시켜 봐요!\\n앞에서 배운 기본 문법을 응용하여 코딩 문제를 풀어 보고 터틀 라이브러리를 사용해서 멋진 마법진도 그려 봅니다. 딕셔너리, 리스트 등 심화된 내용도 차근차근 따라 한다면 어렵지 않아요!\\n \\n나만의 파이썬 게임을 만들어 봐요!\\n파이게임 라이브러리를 사용하여 나만의 게임을 만들어 봅니다. 캐릭터 상하좌우 이동부터 투명 마법, 몹 등장, 불꽃 공격, 소리 효과 등 게임 제작의 기본적인 과정을 재밌게 실습해 봅니다. \\n \\n 누구를 위한 책인가요?\\n- 블록 코딩을 배우고 처음으로 텍스트 코딩을 배우려는 초등 5~6학년, 중등 1~2학년\\n- 코딩을 쉽게 배우고 싶은 모든 사람'},\n",
       " {'title': '챗GPT와 업무자동화 (1분 만에 끝내는 엑셀, 구글 시트, 파워포인트, 파이썬 자동화 with ChatGPT)',\n",
       "  'link': 'https://search.shopping.naver.com/book/catalog/38613559620',\n",
       "  'image': 'https://shopping-phinf.pstatic.net/main_3861355/38613559620.20230512071057.jpg',\n",
       "  'author': '김철수',\n",
       "  'discount': '15390',\n",
       "  'publisher': '위키북스',\n",
       "  'pubdate': '20230321',\n",
       "  'isbn': '9791158394288',\n",
       "  'description': '코드 한 줄 몰라도 1분 만에 끝내는 엑셀, 구글 스프레드시트, 파워포인트 업무 자동화!\\n\\n우리는 ChatGPT에게 코드를 요청하고, ChatGPT가 작성한 코드를 사용해서 엑셀이든 파워포인트든 구글 시스프레드시트든 뭐든 자동화할 수 있습니다. Ctrl+C와 Ctrl+V로 하루 종일 해야 했던 단순 반복 업무를 ChatGPT만 있으면 1분 안에 끝낼 수 있습니다. 믿기지 않는다고요? 이 책을 보면 이제 Ctrl+C와 Ctrl+V의 노예에서 해방될 수 있습니다.\\n\\nChatGPT는 사람의 직업을 대체하지 않습니다. 모든 사람이 본연의 업무에 집중할 수 있도록 단순 반복 업무 같은 작업을 대신하거나, 아주 빠르게 하도록 도와주는 것뿐입니다. ChatGPT와 같은 AI에 익숙해진다면 업무 효율이 부쩍 올라가고 여유 시간이 점점 늘어나는 것을 느낄 겁니다.\\n\\n★ 이 책의 구성 ★\\n\\n◎ ChatGPT 개념과 간단한 사용법\\n◎ ChatGPT를 사용해서 엑셀을 자동화하는 방법\\n◎ ChatGPT가 작성해주는 주는 VBA 코드를 엑셀에서 활용하는 방법\\n◎ ChatGPT를 활용한 구글 스프레드 자동화\\n◎ ChatGPT의 다양한 활용 - 파이썬으로 뉴스 수집, D3 시각화, 웹페이지 만들기 등'},\n",
       " {'title': '혼자 공부하는 파이썬 (1:1 과외하듯 배우는 프로그래밍 자습서)',\n",
       "  'link': 'https://search.shopping.naver.com/book/catalog/32507605957',\n",
       "  'image': 'https://shopping-phinf.pstatic.net/main_3250760/32507605957.20230509170119.jpg',\n",
       "  'author': '윤인성',\n",
       "  'discount': '18810',\n",
       "  'publisher': '한빛미디어',\n",
       "  'pubdate': '20220601',\n",
       "  'isbn': '9791162245651',\n",
       "  'description': '혼자 해도 충분하다! 1:1 과외하듯 배우는 파이썬 프로그래밍 자습서\\n\\n『혼자 공부하는 파이썬』이 더욱 흥미있고 알찬 내용으로 개정되었습니다. 프로그래밍이 정말 처음인 입문자도 따라갈 수 있는 친절한 설명과 단계별 학습은 그대로! 혼자 공부하더라도 체계적으로 계획을 세워 학습할 수 있도록 ‘혼공 계획표’를 새롭게 추가했습니다. 또한 입문자가 자주 물어보는 질문과 오류 해결 방법을 적재적소에 배치하여 예상치 못한 문제에 부딪혀도 좌절하지 않고 끝까지 완독할 수 있도록 도와줍니다. 단순한 문법 암기와 코딩 따라하기에 지쳤다면, 새로운 혼공파와 함께 ‘누적 예제’와 ‘도전 문제’로 프로그래밍의 신세계를 경험해 보세요! 배운 내용을 씹고 뜯고 맛보고 즐기다 보면 응용력은 물론 알고리즘 사고력까지 키워 코딩 실력이 쑥쑥 성장할 것입니다.\\n\\n이 책은 독학으로 파이썬을 배우는 입문자가 ‘꼭 필요한 내용을 제대로 학습’할 수 있도록 구성했습니다. 뭘 모르는지조차 모르는 입문자의 막연한 마음에 십분 공감하여 과외 선생님이 알려주듯 친절하게, 핵심적인 내용만 콕콕 집어줍니다. 책의 첫 페이지를 펼쳐서 마지막 페이지를 덮을 때까지, 혼자서도 충분히 파이썬을 배울 수 있다는 자신감과 확신이 계속될 것입니다!\\n\\n베타리더와 함께 입문자에게 맞는 난이도, 분량, 학습 요소 등을 적극 반영했습니다. 어려운 용어와 개념은 한 번 더 풀어쓰고, 복잡한 설명은 눈에 잘 들어오는 그림으로 풀어냈습니다. ‘혼자 공부해 본’ 여러 입문자의 초심과 눈높이가 책 곳곳에 반영된 것이 이 책의 가장 큰 장점입니다.'},\n",
       " {'title': '혼자 공부하는 데이터 분석 with 파이썬 (1:1 과외하듯 배우는 데이터 분석 자습서)',\n",
       "  'link': 'https://search.shopping.naver.com/book/catalog/36555425618',\n",
       "  'image': 'https://shopping-phinf.pstatic.net/main_3655542/36555425618.20230103163017.jpg',\n",
       "  'author': '박해선',\n",
       "  'discount': '22230',\n",
       "  'publisher': '한빛미디어',\n",
       "  'pubdate': '20230102',\n",
       "  'isbn': '9791169210287',\n",
       "  'description': '혼자 해도 충분하다! 1:1 과외하듯 배우는 데이터 분석 자습서\\n\\n이 책은 독학으로 데이터 분석을 배우는 입문자가 ‘꼭 필요한 내용을 제대로 학습’할 수 있도록 구성했습니다. 뭘 모르는지조차 모르는 입문자의 막연한 마음에 십분 공감하여 과외 선생님이 알려주듯 친절하게, 핵심적인 내용만 콕콕 집어 줍니다. 책의 첫 페이지를 펼쳐서 마지막 페이지를 덮을 때까지, 혼자서도 충분히 데이터 분석을 배울 수 있다는 자신감과 확신이 계속될 것입니다!\\n\\n베타리더 검증으로, ‘함께 만든’ 입문자 맞춤형 도서\\n베타리더와 함께 입문자에게 맞는 난이도, 분량, 학습 요소 등을 고민하고 이를 적극 반영했습니다. 어려운 용어와 개념은 한 번 더 풀어쓰고, 복잡한 설명은 눈에 잘 들어오는 그림으로 풀어냈습니다. ‘혼자 공부해 본’ 여러 입문자의 초심과 눈높이가 책 곳곳에 반영된 것이 이 책의 가장 큰 장점입니다.\\n\\n누구를 위한 책인가요?\\n\\n●\\t데이터 분석을 어떻게 시작할지 막막한 비전공자\\n●\\t파이썬을 배운 다음 의미 있는 실습을 해 보고 싶은 파이썬 입문자\\n●\\t프로그래밍은 알지만, 분석(통계)에 대한 이해가 필요한 개발자\\n●\\t데이터에서 유의미한 결과를 도출해 이를 기획이나 마케팅에 적용해 보고 싶은 직장인\\n●\\t데이터 분석가, 데이터 사이언티스트라는 직업에 관심 있는 모든 사람'},\n",
       " {'title': '파이썬 라이브러리를 활용한 데이터 분석 (영화 평점, 이름 통계, 선거 데이터 등 실사례 사용)',\n",
       "  'link': 'https://search.shopping.naver.com/book/catalog/39490930623',\n",
       "  'image': 'https://shopping-phinf.pstatic.net/main_3949093/39490930623.20230502162650.jpg',\n",
       "  'author': 'Wes McKinney',\n",
       "  'discount': '35100',\n",
       "  'publisher': '한빛미디어',\n",
       "  'pubdate': '20230501',\n",
       "  'isbn': '9791169210973',\n",
       "  'description': '데이터 분석을 배우는 가장 완벽한 방법 \\n파이썬 라이브러리 사용법부터 실제 데이터를 활용한 실습까지\\n\\n믿고 보는 파이썬 데이터 분석 대표 도서가 3판으로 돌아왔다. 파이썬 판다스 프로젝트 창시자인 웨스 맥키니가 직접 설명하는 파이썬 라이브러리 사용법은 실용적이고 현대적이다. 파이썬과 판다스 최신 버전을 기준으로 내용을 업데이트했고 다양한 사례를 살펴보며 데이터 분석 문제를 효과적으로 해결하는 방법을 알아본다. \\n\\n판다스, 넘파이, IPython, 맷플롯립, 주피터 등 다양한 파이썬 라이브러리를 소개하고 새로운 기능뿐만 아니라 메모리 사용량을 줄이고 성능을 개선하는 고급 사용법까지 다룬다. 또한 모델링 도구인 statsmodels와 사이킷런 라이브러리도 소개한다. 신생아 이름 통계 자료, 대선 데이터베이스 등 실제 데이터로 실습하며 데이터에 적합한 도구를 선택하고 효과적으로 분석하는 전문가로 거듭나보자.'},\n",
       " {'title': '챗GPT를 활용한 40가지 파이썬 프로그램 만들기 (파이썬 초보 개발자를 위한 챗GPT 실전 활용서)',\n",
       "  'link': 'https://search.shopping.naver.com/book/catalog/39233615626',\n",
       "  'image': 'https://shopping-phinf.pstatic.net/main_3923361/39233615626.20230509165334.jpg',\n",
       "  'author': '장문철',\n",
       "  'discount': '15930',\n",
       "  'publisher': '앤써북',\n",
       "  'pubdate': '20230430',\n",
       "  'isbn': '9791198189202',\n",
       "  'description': '단 한 줄의 코드 작성없이 원하는 파이썬 프로그램을 완성할 수 있다!\\n\\n이 책을 통해 파이썬 기본 문법 익힌 후 챗GPT에게 다양한 질문을 통해 40가지 파이썬 프로그램을 만들어보자! \\n\\n파이썬 기초가 없거나 자세한 문법 설명이 필요한 경우 특별 부록으로 제공되는 〈챗GPT를 활용한 파이썬 문법 배우기 입문〉 PDF 파일을 참고한다. \\n\\n이 책의 실습에 필요한 소스 다운로드 및 학습하는 과정에서 오류가 발생하는 부분이 있으면 저자에게 질문할 수 있는 질문/답변 네이버 카페를 앤써북 독지지원센터를 운영한다. 사용 방법은 책 5~6쪽을 참고한다. \\n- 앤써북 네이버카페 https://cafe.naver.com/answerbook \\n- 책 전용 게시판 https://cafe.naver.com/answerbook/menu/210'},\n",
       " {'title': 'CODING BASICS PYTHON (파이썬)',\n",
       "  'link': 'https://search.shopping.naver.com/book/catalog/32440944646',\n",
       "  'image': 'https://shopping-phinf.pstatic.net/main_3244094/32440944646.20230509164030.jpg',\n",
       "  'author': '김상민^장성식^김일태',\n",
       "  'discount': '18000',\n",
       "  'publisher': '렉스미디어닷넷',\n",
       "  'pubdate': '20220210',\n",
       "  'isbn': '9788959604210',\n",
       "  'description': '파이썬으로 다지는 프로그래밍의 기초\\n\\nㆍ 다양한 예제를 활용하여 초보자도 쉽게 프로그래밍의 기본을 익힐 수 있는 파이썬 입문서입니다.\\nㆍ 문법을 사전식으로 나열하지 않고 기능적인 프로그램을 하나씩 완성하면서 익힐 수 있게 구성했습니다.\\nㆍ 단계별로 완성하는 장별 예제 및 연습문제를 바탕으로 자신만의 프로그램을 완성할 수 있습니다.'},\n",
       " {'title': '파이썬',\n",
       "  'link': 'https://search.shopping.naver.com/book/catalog/32460987987',\n",
       "  'image': 'https://shopping-phinf.pstatic.net/main_3246098/32460987987.20230207163755.jpg',\n",
       "  'author': '홍의경',\n",
       "  'discount': '31040',\n",
       "  'publisher': '생능출판',\n",
       "  'pubdate': '20220309',\n",
       "  'isbn': '9788970506784',\n",
       "  'description': '코딩 실력을 키우는 지름길은 실습이다.\\n\\n2008년 즈음에 검인정 중학교 교과서 정보1, 정보2, 정보3을 공저로 저술하였습니다. 그 당시에 8종류의 교과서가 검인정에 합격하였는데, 파이썬을 기반으로 하는 교과서가 2종류, C언어를 기반으로 하는 교과서가 2종류, 베이직을 기반으로 하는 교과서가 2종류, 스크래치를 기반으로 하는 교과서가 2종류였습니다.\\n\\n교육용 언어로 시작한 파이썬이 중학교 학생들이 비교적 쉽게 학습할 수 있는 프로그래밍 언어라고 생각했는데 10여년의 세월이 흐른 지금 파이썬이 활용되는 분야가 가히 폭발적으로 증가하였습니다. \\n\\n파이썬에 관한 쉽고 좋은 교재를 저술하기 위해서 인터넷에서 30,000페이지 이상의 자료를 찾아서 검토하였습니다. 어쩌면 파이썬이 첫 프로그래밍 언어일 본 교재의 독자들이 두려움 없이 파이썬을 기초부터 쉽게 공부하다가, 교재를 다 읽고 나면 “어느새 중급 수준에 도달했구나”라는 생각이 들도록  완성도 높은 교재를 목표로 하였습니다. \\n\\n입문자를 대상으로 하는 교재일수록 집필하는데 훨씬 더 많은 정성과 노력이 필요하다는 것을 잘 알고 있습니다. 개인적으로는 데이터베이스 전공교재를 저술할 때보다 몇 배 더 힘들었고, 공을 많이 들였습니다. \\n\\n원고를 버전 9까지 작성하는 동안 셀 수 없이 원고를 읽어보면서 꼭 필요하지 않은 문장은 삭제하고, 필요한 문장은 반드시 넣었습니다. 고등학교 검인정 교과서 1권, 중학교 검인정 교과서 3권, 데이터베이스 전공 교재 2권, 엑셀 교재 1권, 번역서 2권을 집필하면서 나름대로 한글을 정확하고 간결하게 표현하는데 자신이 있습니다.'}]"
      ]
     },
     "execution_count": 43,
     "metadata": {},
     "output_type": "execute_result"
    }
   ],
   "source": [
    "result['items']"
   ]
  },
  {
   "cell_type": "code",
   "execution_count": 46,
   "id": "8d623a11",
   "metadata": {
    "scrolled": true
   },
   "outputs": [
    {
     "data": {
      "text/plain": [
       "['20190620',\n",
       " '20230220',\n",
       " '20211220',\n",
       " '20230321',\n",
       " '20220601',\n",
       " '20230102',\n",
       " '20230501',\n",
       " '20230430',\n",
       " '20220210',\n",
       " '20220309']"
      ]
     },
     "execution_count": 46,
     "metadata": {},
     "output_type": "execute_result"
    }
   ],
   "source": [
    "# print(\"제목 :\",result['items'][0]['title'])\n",
    "# print(\"저자 :\",result['items'][0]['author'])\n",
    "\n",
    "#titles 생성\n",
    "# for i in range(3):\n",
    "#     print(result['items'][i]['title'])\n",
    "\n",
    "# 리스트 내포\n",
    "titles = [result['items'][i]['title'] for i in range(10) ]\n",
    "titles\n",
    "\n",
    "authors = [result['items'][i]['author'] for i in range(10) ]\n",
    "authors\n",
    "\n",
    "pubdates = [result['items'][i]['pubdate'] for i in range(10) ]\n",
    "pubdates"
   ]
  },
  {
   "cell_type": "code",
   "execution_count": 47,
   "id": "2af13a81",
   "metadata": {},
   "outputs": [
    {
     "data": {
      "text/html": [
       "<div>\n",
       "<style scoped>\n",
       "    .dataframe tbody tr th:only-of-type {\n",
       "        vertical-align: middle;\n",
       "    }\n",
       "\n",
       "    .dataframe tbody tr th {\n",
       "        vertical-align: top;\n",
       "    }\n",
       "\n",
       "    .dataframe thead th {\n",
       "        text-align: right;\n",
       "    }\n",
       "</style>\n",
       "<table border=\"1\" class=\"dataframe\">\n",
       "  <thead>\n",
       "    <tr style=\"text-align: right;\">\n",
       "      <th></th>\n",
       "      <th>책제목</th>\n",
       "      <th>작가</th>\n",
       "      <th>출판일</th>\n",
       "    </tr>\n",
       "  </thead>\n",
       "  <tbody>\n",
       "    <tr>\n",
       "      <th>0</th>\n",
       "      <td>Do it! 점프 투 파이썬 (이미 200만명이 이 책으로 프로그래밍을 시작했다!)</td>\n",
       "      <td>박응용</td>\n",
       "      <td>20190620</td>\n",
       "    </tr>\n",
       "    <tr>\n",
       "      <th>1</th>\n",
       "      <td>코딩 자율학습 나도코딩의 파이썬 입문 (초보자 눈높이에 맞춘 친절한 프로그래밍 자습서)</td>\n",
       "      <td>나도코딩</td>\n",
       "      <td>20230220</td>\n",
       "    </tr>\n",
       "    <tr>\n",
       "      <th>2</th>\n",
       "      <td>파이썬 무작정 따라하기 (미래의 프로그래머를 위한)</td>\n",
       "      <td>서승희^송석리</td>\n",
       "      <td>20211220</td>\n",
       "    </tr>\n",
       "    <tr>\n",
       "      <th>3</th>\n",
       "      <td>챗GPT와 업무자동화 (1분 만에 끝내는 엑셀, 구글 시트, 파워포인트, 파이썬 자...</td>\n",
       "      <td>김철수</td>\n",
       "      <td>20230321</td>\n",
       "    </tr>\n",
       "    <tr>\n",
       "      <th>4</th>\n",
       "      <td>혼자 공부하는 파이썬 (1:1 과외하듯 배우는 프로그래밍 자습서)</td>\n",
       "      <td>윤인성</td>\n",
       "      <td>20220601</td>\n",
       "    </tr>\n",
       "    <tr>\n",
       "      <th>5</th>\n",
       "      <td>혼자 공부하는 데이터 분석 with 파이썬 (1:1 과외하듯 배우는 데이터 분석 자습서)</td>\n",
       "      <td>박해선</td>\n",
       "      <td>20230102</td>\n",
       "    </tr>\n",
       "    <tr>\n",
       "      <th>6</th>\n",
       "      <td>파이썬 라이브러리를 활용한 데이터 분석 (영화 평점, 이름 통계, 선거 데이터 등 ...</td>\n",
       "      <td>Wes McKinney</td>\n",
       "      <td>20230501</td>\n",
       "    </tr>\n",
       "    <tr>\n",
       "      <th>7</th>\n",
       "      <td>챗GPT를 활용한 40가지 파이썬 프로그램 만들기 (파이썬 초보 개발자를 위한 챗G...</td>\n",
       "      <td>장문철</td>\n",
       "      <td>20230430</td>\n",
       "    </tr>\n",
       "    <tr>\n",
       "      <th>8</th>\n",
       "      <td>CODING BASICS PYTHON (파이썬)</td>\n",
       "      <td>김상민^장성식^김일태</td>\n",
       "      <td>20220210</td>\n",
       "    </tr>\n",
       "    <tr>\n",
       "      <th>9</th>\n",
       "      <td>파이썬</td>\n",
       "      <td>홍의경</td>\n",
       "      <td>20220309</td>\n",
       "    </tr>\n",
       "  </tbody>\n",
       "</table>\n",
       "</div>"
      ],
      "text/plain": [
       "                                                 책제목            작가       출판일\n",
       "0     Do it! 점프 투 파이썬 (이미 200만명이 이 책으로 프로그래밍을 시작했다!)           박응용  20190620\n",
       "1   코딩 자율학습 나도코딩의 파이썬 입문 (초보자 눈높이에 맞춘 친절한 프로그래밍 자습서)          나도코딩  20230220\n",
       "2                       파이썬 무작정 따라하기 (미래의 프로그래머를 위한)       서승희^송석리  20211220\n",
       "3  챗GPT와 업무자동화 (1분 만에 끝내는 엑셀, 구글 시트, 파워포인트, 파이썬 자...           김철수  20230321\n",
       "4               혼자 공부하는 파이썬 (1:1 과외하듯 배우는 프로그래밍 자습서)           윤인성  20220601\n",
       "5  혼자 공부하는 데이터 분석 with 파이썬 (1:1 과외하듯 배우는 데이터 분석 자습서)           박해선  20230102\n",
       "6  파이썬 라이브러리를 활용한 데이터 분석 (영화 평점, 이름 통계, 선거 데이터 등 ...  Wes McKinney  20230501\n",
       "7  챗GPT를 활용한 40가지 파이썬 프로그램 만들기 (파이썬 초보 개발자를 위한 챗G...           장문철  20230430\n",
       "8                         CODING BASICS PYTHON (파이썬)   김상민^장성식^김일태  20220210\n",
       "9                                                파이썬           홍의경  20220309"
      ]
     },
     "execution_count": 47,
     "metadata": {},
     "output_type": "execute_result"
    }
   ],
   "source": [
    "import pandas as pd\n",
    "\n",
    "파이썬도서 = pd.DataFrame({\n",
    "    '책제목' : titles,\n",
    "    '작가' : authors,\n",
    "    '출판일': pubdates\n",
    "})\n",
    "파이썬도서"
   ]
  },
  {
   "cell_type": "code",
   "execution_count": 55,
   "id": "b9f58e03",
   "metadata": {},
   "outputs": [],
   "source": [
    "import urllib.request\n",
    "import json\n",
    "import pandas as pd\n",
    "\n",
    "def create_url(api_node, search_text, start_num, disp_num):\n",
    "    base = \"https://openapi.naver.com/v1/search\"\n",
    "    node = \"/\" + api_node + \".json\"\n",
    "    param_query = \"?query=\" + urllib.parse.quote(search_text)\n",
    "    param_start= \"&start=\" + str(start_num)\n",
    "    param_disp = \"&display=\" + str(disp_num)\n",
    "    \n",
    "    return base + node + param_query + param_start + param_disp\n",
    "\n",
    "#create_url('book','파이썬', 1, 3)\n",
    "\n",
    "client_id = \"5upI7Nmhp34zm1GE8pyr\"\n",
    "client_secret = \"VLSjYu3UGe\"\n",
    "\n",
    "url = create_url('book','파이썬', 1, 10)\n",
    "\n",
    "# 요청\n",
    "request = urllib.request.Request(url)   # url주소를 요청(호출)\n",
    "request.add_header(\"X-Naver-Client-Id\", client_id) #header로 id 비번보내줌\n",
    "request.add_header(\"X-Naver-Client-Secret\", client_secret)\n",
    "\n",
    "# 응답\n",
    "response = urllib.request.urlopen(request)  # requests.get(url) 유사함\n",
    "result = json.loads(response.read().decode('utf-8'))\n",
    "# print(result)\n",
    "\n",
    "# 리스트 내포\n",
    "titles = [result['items'][i]['title'] for i in range(10) ]\n",
    "titles\n",
    "\n",
    "authors = [result['items'][i]['author'] for i in range(10) ]\n",
    "authors\n",
    "\n",
    "pubdates = [result['items'][i]['pubdate'] for i in range(10) ]\n",
    "pubdates\n",
    "\n",
    "# 데이터 프레임(테이블) 생성\n",
    "파이썬도서 = pd.DataFrame({\n",
    "    '책제목' : titles,\n",
    "    '작가' : authors,\n",
    "    '출판일': pubdates\n",
    "})\n",
    "#파이썬도서\n",
    "\n",
    "파이썬도서 = 파이썬도서.set_index('책제목')\n",
    "파이썬도서\n",
    "\n",
    "#csv파일 만들기\n",
    "파이썬도서.to_csv(\"./datas/파이썬도서3.csv\", encoding='utf-8-sig')\n"
   ]
  },
  {
   "cell_type": "code",
   "execution_count": null,
   "id": "c464acd5",
   "metadata": {},
   "outputs": [],
   "source": []
  }
 ],
 "metadata": {
  "kernelspec": {
   "display_name": "Python 3 (ipykernel)",
   "language": "python",
   "name": "python3"
  },
  "language_info": {
   "codemirror_mode": {
    "name": "ipython",
    "version": 3
   },
   "file_extension": ".py",
   "mimetype": "text/x-python",
   "name": "python",
   "nbconvert_exporter": "python",
   "pygments_lexer": "ipython3",
   "version": "3.10.9"
  }
 },
 "nbformat": 4,
 "nbformat_minor": 5
}
